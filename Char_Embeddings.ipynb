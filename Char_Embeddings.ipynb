{
  "nbformat": 4,
  "nbformat_minor": 0,
  "metadata": {
    "accelerator": "GPU",
    "colab": {
      "name": "Medium_Embeddings.ipynb",
      "provenance": [],
      "collapsed_sections": []
    },
    "kernelspec": {
      "display_name": "Python 3",
      "name": "python3"
    }
  },
  "cells": [
    {
      "cell_type": "code",
      "metadata": {
        "colab": {
          "base_uri": "https://localhost:8080/"
        },
        "id": "yw041czIJHqQ",
        "outputId": "becd9e46-521a-4807-ef4a-0004c4cdc86d"
      },
      "source": [
        "import torch\n",
        "import torch.nn as nn\n",
        "import torch.nn.functional as F\n",
        "import torch.optim as optim\n",
        "\n",
        "import numpy\n",
        "import string\n",
        "\n",
        "import matplotlib.pyplot as plt\n",
        "\n",
        "\n",
        "\n",
        "use_cuda = torch.cuda.is_available()\n",
        "device = torch.device(\"cuda\" if use_cuda else \"cpu\")\n",
        "torch.manual_seed(0)\n",
        "\n",
        "\n",
        "file_name = \"Frankenstein.txt\"\n",
        "# file_name = \"Alice_In_Wonderland.txt\"\n",
        "\n",
        "\n",
        "print(f\"Working on Device: {device}\")"
      ],
      "execution_count": 1,
      "outputs": [
        {
          "output_type": "stream",
          "text": [
            "Working on Device: cuda\n"
          ],
          "name": "stdout"
        }
      ]
    },
    {
      "cell_type": "code",
      "metadata": {
        "id": "DcpoJeC0JdtU"
      },
      "source": [
        "with open(file_name, 'r') as f:\n",
        "    txt = f.read()\n",
        "\n",
        "def preprocess(t):\n",
        "    t = t.lower()\n",
        "    t = \" \".join(t.split())\n",
        "    \n",
        "    # remove punctuation and special characters\n",
        "    for s in string.punctuation + \"æèéêô—‘’“”ù\":\n",
        "        t = t.replace(s, \"\")\n",
        "    return t\n",
        "\n",
        "data = preprocess(txt)"
      ],
      "execution_count": 2,
      "outputs": []
    },
    {
      "cell_type": "code",
      "metadata": {
        "colab": {
          "base_uri": "https://localhost:8080/"
        },
        "id": "VP9ERKDxJoPh",
        "outputId": "3c4f9242-9c29-4ca1-aee1-6196176d1ae1"
      },
      "source": [
        "print(sorted(set(data)))\n",
        "print(f\"Number of characters: {len(set(data))}\")"
      ],
      "execution_count": 3,
      "outputs": [
        {
          "output_type": "stream",
          "text": [
            "[' ', '0', '1', '2', '3', '4', '5', '6', '7', '8', '9', 'a', 'b', 'c', 'd', 'e', 'f', 'g', 'h', 'i', 'j', 'k', 'l', 'm', 'n', 'o', 'p', 'q', 'r', 's', 't', 'u', 'v', 'w', 'x', 'y', 'z']\n",
            "Number of characters: 37\n"
          ],
          "name": "stdout"
        }
      ]
    },
    {
      "cell_type": "markdown",
      "metadata": {
        "id": "-8Eg3PAeLorN"
      },
      "source": [
        "Now lets create a dataset, here given a token $x_i$, we would like to predict what the token at $x_{i+1}$ should be. There is a very quick way of achieveing this, which is presented below in the `create_inp_out` function, where we offset the text."
      ]
    },
    {
      "cell_type": "code",
      "metadata": {
        "id": "q4HgBCfeLdH8"
      },
      "source": [
        "def create_inp_out(data):\n",
        "    inp = data[:-1]\n",
        "    out = data[1:]\n",
        "    return inp, out"
      ],
      "execution_count": 4,
      "outputs": []
    },
    {
      "cell_type": "markdown",
      "metadata": {
        "id": "aqxe_yb8NbP_"
      },
      "source": [
        "The short example should meke it clear how it works as when we supply digit 1 we expect the model to output digit 2, when we supply 2 we expect the model to output digit 3, etc."
      ]
    },
    {
      "cell_type": "code",
      "metadata": {
        "colab": {
          "base_uri": "https://localhost:8080/"
        },
        "id": "tkGDAv9XMUNd",
        "outputId": "eb2af71e-06a4-4d35-b002-401333f1c09e"
      },
      "source": [
        "# short example\n",
        "probe_data = \"12345\"\n",
        "create_inp_out(probe_data)"
      ],
      "execution_count": 5,
      "outputs": [
        {
          "output_type": "execute_result",
          "data": {
            "text/plain": [
              "('1234', '2345')"
            ]
          },
          "metadata": {
            "tags": []
          },
          "execution_count": 5
        }
      ]
    },
    {
      "cell_type": "code",
      "metadata": {
        "id": "log25xLBM8zK"
      },
      "source": [
        "inp, target = create_inp_out(data)"
      ],
      "execution_count": 6,
      "outputs": []
    },
    {
      "cell_type": "markdown",
      "metadata": {
        "id": "82JGh3t2OImD"
      },
      "source": [
        "Now, lets also convert our data to the vector representation. We are going to represent each character in one hot encoding format"
      ]
    },
    {
      "cell_type": "code",
      "metadata": {
        "colab": {
          "base_uri": "https://localhost:8080/"
        },
        "id": "n6SO0XcCN7E4",
        "outputId": "74d6587d-2b80-4ab0-9aed-c015aef8e0e5"
      },
      "source": [
        "# first we would have to create an integer representation of each character,\n",
        "# and vice-versa\n",
        "char2idx = {k: v for v, k in enumerate(sorted(set(data)))}\n",
        "idx2char = {v: k for k, v in char2idx.items()}\n",
        "\n",
        "vocab_size = len(char2idx)\n",
        "\n",
        "print(char2idx)\n",
        "print(idx2char)"
      ],
      "execution_count": 7,
      "outputs": [
        {
          "output_type": "stream",
          "text": [
            "{' ': 0, '0': 1, '1': 2, '2': 3, '3': 4, '4': 5, '5': 6, '6': 7, '7': 8, '8': 9, '9': 10, 'a': 11, 'b': 12, 'c': 13, 'd': 14, 'e': 15, 'f': 16, 'g': 17, 'h': 18, 'i': 19, 'j': 20, 'k': 21, 'l': 22, 'm': 23, 'n': 24, 'o': 25, 'p': 26, 'q': 27, 'r': 28, 's': 29, 't': 30, 'u': 31, 'v': 32, 'w': 33, 'x': 34, 'y': 35, 'z': 36}\n",
            "{0: ' ', 1: '0', 2: '1', 3: '2', 4: '3', 5: '4', 6: '5', 7: '6', 8: '7', 9: '8', 10: '9', 11: 'a', 12: 'b', 13: 'c', 14: 'd', 15: 'e', 16: 'f', 17: 'g', 18: 'h', 19: 'i', 20: 'j', 21: 'k', 22: 'l', 23: 'm', 24: 'n', 25: 'o', 26: 'p', 27: 'q', 28: 'r', 29: 's', 30: 't', 31: 'u', 32: 'v', 33: 'w', 34: 'x', 35: 'y', 36: 'z'}\n"
          ],
          "name": "stdout"
        }
      ]
    },
    {
      "cell_type": "code",
      "metadata": {
        "id": "j8QwX0qbSe2r"
      },
      "source": [
        "def convert_to_one_hot(txt):\n",
        "    res = [char2idx[ch] for ch in txt]\n",
        "    res = torch.tensor(res)\n",
        "    return torch.nn.functional.one_hot(res).type(torch.FloatTensor)\n",
        "\n",
        "X = convert_to_one_hot(inp)\n",
        "y = convert_to_one_hot(target)"
      ],
      "execution_count": 8,
      "outputs": []
    },
    {
      "cell_type": "code",
      "metadata": {
        "id": "c_scHwkUdT5d"
      },
      "source": [
        "# X.to(device).device"
      ],
      "execution_count": 9,
      "outputs": []
    },
    {
      "cell_type": "code",
      "metadata": {
        "id": "0pYAgjnbUOP9"
      },
      "source": [
        "# Lets use Dataset functionality of PyTorch\n",
        "class Dataset(torch.utils.data.Dataset):\n",
        "    def __init__(self, X, y):\n",
        "        'Initialization'\n",
        "        self.X = X\n",
        "        self.y = y\n",
        "    \n",
        "    def __len__(self):\n",
        "        'Denotes the total number of samples'\n",
        "        return len(self.X)\n",
        "\n",
        "    def __getitem__(self, index):\n",
        "        'Generates one sample of data'\n",
        "        return self.X[index], self.y[index]\n"
      ],
      "execution_count": 10,
      "outputs": []
    },
    {
      "cell_type": "code",
      "metadata": {
        "colab": {
          "base_uri": "https://localhost:8080/"
        },
        "id": "8_I7Ekl1T6VI",
        "outputId": "2face199-7341-4ffc-fd0f-93b1af5fc194"
      },
      "source": [
        "dataset = Dataset(X, y)\n",
        "\n",
        "params = {'batch_size': 256,\n",
        "          'shuffle': False,\n",
        "          'num_workers': 6}\n",
        "\n",
        "training_generator = torch.utils.data.DataLoader(dataset, **params)\n",
        "print(f\"Number of batches {len(training_generator)}\")\n",
        "# next(iter(training_generator))"
      ],
      "execution_count": 11,
      "outputs": [
        {
          "output_type": "stream",
          "text": [
            "Number of batches 1591\n"
          ],
          "name": "stdout"
        }
      ]
    },
    {
      "cell_type": "code",
      "metadata": {
        "id": "G2WxBTCVVdTk"
      },
      "source": [
        "class Net(nn.Module):\n",
        "    def __init__(self):\n",
        "        super(Net, self).__init__()\n",
        "        self.fc_embedding = nn.Linear(vocab_size, 2).to(device)\n",
        "        self.fc2 = nn.Linear(2, vocab_size).to(device)\n",
        "\n",
        "    def forward(self, x):\n",
        "        x = self.fc_embedding(x)\n",
        "        # x = torch.tanh(x)\n",
        "        x = F.softmax(self.fc2(x), dim=0)\n",
        "        return x"
      ],
      "execution_count": 12,
      "outputs": []
    },
    {
      "cell_type": "code",
      "metadata": {
        "id": "r1mnOWfAVxv5"
      },
      "source": [
        "NN = Net()\n",
        "# NN(next(iter(training_generator))[0]).shape"
      ],
      "execution_count": 13,
      "outputs": []
    },
    {
      "cell_type": "code",
      "metadata": {
        "colab": {
          "base_uri": "https://localhost:8080/",
          "height": 592
        },
        "id": "e54HbhuhfkPj",
        "outputId": "b0c8b813-f3c7-4967-df35-682adc23bdce"
      },
      "source": [
        "# First lets check what our `random` embeddings look like, before we even start \n",
        "# training\n",
        "\n",
        "def plot_embeddings():\n",
        "    plt.figure(figsize=(10,10))\n",
        "    plt.axis(\"equal\")\n",
        "    res = NN.fc_embedding(torch.eye(vocab_size).to(device))\n",
        "    res = res.cpu().detach().numpy()\n",
        "\n",
        "    plt.scatter(res[:, 0], res[:, 1], c='white')\n",
        "    for idx, char in idx2char.items():\n",
        "        if char == \" \":\n",
        "            char = \"*\"\n",
        "        plt.text(res[idx, 0], res[idx, 1], char)\n",
        "    plt.show()\n",
        "\n",
        "\n",
        "plot_embeddings()"
      ],
      "execution_count": 14,
      "outputs": [
        {
          "output_type": "display_data",
          "data": {
            "image/png": "[encoded data removed]",
            "text/plain": [
              "<Figure size 720x720 with 1 Axes>"
            ]
          },
          "metadata": {
            "tags": [],
            "needs_background": "light"
          }
        }
      ]
    },
    {
      "cell_type": "code",
      "metadata": {
        "id": "uXVYBOQuc-V4"
      },
      "source": [
        "import time\n",
        "def train(model, lr=0.001, epochs=10):\n",
        "    loss_criterion = nn.MSELoss()\n",
        "    optimizer = optim.Adam(model.parameters(), lr=lr)\n",
        "    # optimizer = optim.SGD(model.parameters(), lr=lr, momentum=0.9)\n",
        "\n",
        "    for e in range(epochs):\n",
        "        # if e+1 % 5 == 0:\n",
        "        print(f\"Epoch: {e+1}\")\n",
        "        start_time = time.time()\n",
        "        \n",
        "        running_loss = 0\n",
        "        for data in training_generator:\n",
        "            inputs, labels = data\n",
        "            inputs, labels = inputs.to(device), labels.to(device)\n",
        "\n",
        "            optimizer.zero_grad()\n",
        "\n",
        "            predictions = model.forward(inputs)\n",
        "            loss = loss_criterion(predictions, labels)\n",
        "\n",
        "            loss.backward()\n",
        "            optimizer.step()\n",
        "\n",
        "            running_loss += loss.item()\n",
        "\n",
        "        print(f\"Loss: {running_loss} \\t time: {time.time()-start_time:.2f}\\n\")\n",
        "    print(\"finished training\")"
      ],
      "execution_count": 15,
      "outputs": []
    },
    {
      "cell_type": "code",
      "metadata": {
        "colab": {
          "base_uri": "https://localhost:8080/"
        },
        "id": "8AKQ2iw0eO8l",
        "outputId": "cc356b4a-c631-4070-e9c9-80a613d3e422"
      },
      "source": [
        "train(NN, epochs=80, lr=0.001)"
      ],
      "execution_count": 16,
      "outputs": [
        {
          "output_type": "stream",
          "text": [
            "Epoch: 1\n",
            "Loss: 42.43138078972697 \t time: 7.07\n",
            "\n",
            "Epoch: 2\n",
            "Loss: 42.173272443935275 \t time: 6.55\n",
            "\n",
            "Epoch: 3\n",
            "Loss: 42.110945565626025 \t time: 6.82\n",
            "\n",
            "Epoch: 4\n",
            "Loss: 42.08671661093831 \t time: 6.43\n",
            "\n",
            "Epoch: 5\n",
            "Loss: 42.054220551624894 \t time: 6.53\n",
            "\n",
            "Epoch: 6\n",
            "Loss: 42.02317681722343 \t time: 6.91\n",
            "\n",
            "Epoch: 7\n",
            "Loss: 41.99911051057279 \t time: 6.47\n",
            "\n",
            "Epoch: 8\n",
            "Loss: 41.984758188948035 \t time: 6.61\n",
            "\n",
            "Epoch: 9\n",
            "Loss: 41.96374502405524 \t time: 6.79\n",
            "\n",
            "Epoch: 10\n",
            "Loss: 41.94576580636203 \t time: 6.41\n",
            "\n",
            "Epoch: 11\n",
            "Loss: 41.93746614269912 \t time: 6.46\n",
            "\n",
            "Epoch: 12\n",
            "Loss: 41.93195636384189 \t time: 6.73\n",
            "\n",
            "Epoch: 13\n",
            "Loss: 41.927505319938064 \t time: 6.66\n",
            "\n",
            "Epoch: 14\n",
            "Loss: 41.923389529809356 \t time: 6.45\n",
            "\n",
            "Epoch: 15\n",
            "Loss: 41.91869434714317 \t time: 6.58\n",
            "\n",
            "Epoch: 16\n",
            "Loss: 41.91289408132434 \t time: 6.59\n",
            "\n",
            "Epoch: 17\n",
            "Loss: 41.90773310698569 \t time: 6.94\n",
            "\n",
            "Epoch: 18\n",
            "Loss: 41.904046945273876 \t time: 6.53\n",
            "\n",
            "Epoch: 19\n",
            "Loss: 41.901286540552974 \t time: 6.39\n",
            "\n",
            "Epoch: 20\n",
            "Loss: 41.89908911846578 \t time: 6.73\n",
            "\n",
            "Epoch: 21\n",
            "Loss: 41.89729241654277 \t time: 6.84\n",
            "\n",
            "Epoch: 22\n",
            "Loss: 41.895802894607186 \t time: 6.74\n",
            "\n",
            "Epoch: 23\n",
            "Loss: 41.89455245062709 \t time: 6.94\n",
            "\n",
            "Epoch: 24\n",
            "Loss: 41.89348969608545 \t time: 6.72\n",
            "\n",
            "Epoch: 25\n",
            "Loss: 41.89257662370801 \t time: 6.55\n",
            "\n",
            "Epoch: 26\n",
            "Loss: 41.89178350940347 \t time: 6.44\n",
            "\n",
            "Epoch: 27\n",
            "Loss: 41.89108590967953 \t time: 6.56\n",
            "\n",
            "Epoch: 28\n",
            "Loss: 41.8904639352113 \t time: 6.65\n",
            "\n",
            "Epoch: 29\n",
            "Loss: 41.88990079239011 \t time: 6.43\n",
            "\n",
            "Epoch: 30\n",
            "Loss: 41.889381194487214 \t time: 6.59\n",
            "\n",
            "Epoch: 31\n",
            "Loss: 41.88889076747 \t time: 6.87\n",
            "\n",
            "Epoch: 32\n",
            "Loss: 41.88841333426535 \t time: 6.47\n",
            "\n",
            "Epoch: 33\n",
            "Loss: 41.88793090544641 \t time: 6.93\n",
            "\n",
            "Epoch: 34\n",
            "Loss: 41.887424893677235 \t time: 6.48\n",
            "\n",
            "Epoch: 35\n",
            "Loss: 41.88688438013196 \t time: 6.55\n",
            "\n",
            "Epoch: 36\n",
            "Loss: 41.886321507394314 \t time: 6.53\n",
            "\n",
            "Epoch: 37\n",
            "Loss: 41.885773826390505 \t time: 6.49\n",
            "\n",
            "Epoch: 38\n",
            "Loss: 41.88527813926339 \t time: 6.58\n",
            "\n",
            "Epoch: 39\n",
            "Loss: 41.88484794460237 \t time: 6.65\n",
            "\n",
            "Epoch: 40\n",
            "Loss: 41.884477669373155 \t time: 6.78\n",
            "\n",
            "Epoch: 41\n",
            "Loss: 41.884155647829175 \t time: 6.80\n",
            "\n",
            "Epoch: 42\n",
            "Loss: 41.88387144356966 \t time: 6.80\n",
            "\n",
            "Epoch: 43\n",
            "Loss: 41.88361683115363 \t time: 6.57\n",
            "\n",
            "Epoch: 44\n",
            "Loss: 41.88338619470596 \t time: 6.42\n",
            "\n",
            "Epoch: 45\n",
            "Loss: 41.883175402879715 \t time: 6.78\n",
            "\n",
            "Epoch: 46\n",
            "Loss: 41.882981311529875 \t time: 6.56\n",
            "\n",
            "Epoch: 47\n",
            "Loss: 41.88280156813562 \t time: 6.47\n",
            "\n",
            "Epoch: 48\n",
            "Loss: 41.88263453915715 \t time: 7.04\n",
            "\n",
            "Epoch: 49\n",
            "Loss: 41.88247855938971 \t time: 6.76\n",
            "\n",
            "Epoch: 50\n",
            "Loss: 41.882332472130656 \t time: 6.63\n",
            "\n",
            "Epoch: 51\n",
            "Loss: 41.882195411249995 \t time: 6.70\n",
            "\n",
            "Epoch: 52\n",
            "Loss: 41.882066398859024 \t time: 6.62\n",
            "\n",
            "Epoch: 53\n",
            "Loss: 41.88194469362497 \t time: 6.43\n",
            "\n",
            "Epoch: 54\n",
            "Loss: 41.88182974047959 \t time: 6.53\n",
            "\n",
            "Epoch: 55\n",
            "Loss: 41.88172088377178 \t time: 6.46\n",
            "\n",
            "Epoch: 56\n",
            "Loss: 41.881617568433285 \t time: 6.41\n",
            "\n",
            "Epoch: 57\n",
            "Loss: 41.88151940330863 \t time: 6.78\n",
            "\n",
            "Epoch: 58\n",
            "Loss: 41.88142612203956 \t time: 6.97\n",
            "\n",
            "Epoch: 59\n",
            "Loss: 41.88133712671697 \t time: 6.69\n",
            "\n",
            "Epoch: 60\n",
            "Loss: 41.88125227577984 \t time: 6.62\n",
            "\n",
            "Epoch: 61\n",
            "Loss: 41.88117104396224 \t time: 6.51\n",
            "\n",
            "Epoch: 62\n",
            "Loss: 41.88109337538481 \t time: 6.54\n",
            "\n",
            "Epoch: 63\n",
            "Loss: 41.881019013002515 \t time: 6.47\n",
            "\n",
            "Epoch: 64\n",
            "Loss: 41.88094777800143 \t time: 6.49\n",
            "\n",
            "Epoch: 65\n",
            "Loss: 41.88087938167155 \t time: 6.66\n",
            "\n",
            "Epoch: 66\n",
            "Loss: 41.88081372156739 \t time: 6.44\n",
            "\n",
            "Epoch: 67\n",
            "Loss: 41.88075047917664 \t time: 6.63\n",
            "\n",
            "Epoch: 68\n",
            "Loss: 41.88068974018097 \t time: 6.67\n",
            "\n",
            "Epoch: 69\n",
            "Loss: 41.880631098523736 \t time: 7.05\n",
            "\n",
            "Epoch: 70\n",
            "Loss: 41.880574675276875 \t time: 7.03\n",
            "\n",
            "Epoch: 71\n",
            "Loss: 41.88052025064826 \t time: 6.44\n",
            "\n",
            "Epoch: 72\n",
            "Loss: 41.88046773150563 \t time: 6.39\n",
            "\n",
            "Epoch: 73\n",
            "Loss: 41.880416970700026 \t time: 6.47\n",
            "\n",
            "Epoch: 74\n",
            "Loss: 41.880367832258344 \t time: 6.40\n",
            "\n",
            "Epoch: 75\n",
            "Loss: 41.88032047264278 \t time: 6.47\n",
            "\n",
            "Epoch: 76\n",
            "Loss: 41.88027450628579 \t time: 6.53\n",
            "\n",
            "Epoch: 77\n",
            "Loss: 41.8802300747484 \t time: 6.42\n",
            "\n",
            "Epoch: 78\n",
            "Loss: 41.88018688559532 \t time: 6.65\n",
            "\n",
            "Epoch: 79\n",
            "Loss: 41.880145182833076 \t time: 6.51\n",
            "\n",
            "Epoch: 80\n",
            "Loss: 41.88010465167463 \t time: 6.76\n",
            "\n",
            "finished training\n"
          ],
          "name": "stdout"
        }
      ]
    },
    {
      "cell_type": "code",
      "metadata": {
        "id": "LjCxJFCJ_zP2",
        "colab": {
          "base_uri": "https://localhost:8080/",
          "height": 592
        },
        "outputId": "a00d0482-4966-44c6-b0b0-9380dd36c8c8"
      },
      "source": [
        "plot_embeddings()"
      ],
      "execution_count": 17,
      "outputs": [
        {
          "output_type": "display_data",
          "data": {
            "image/png": "[encoded data removed]",
            "text/plain": [
              "<Figure size 720x720 with 1 Axes>"
            ]
          },
          "metadata": {
            "tags": [],
            "needs_background": "light"
          }
        }
      ]
    },
    {
      "cell_type": "code",
      "metadata": {
        "id": "ipqOxve3M2u4"
      },
      "source": [
        ""
      ],
      "execution_count": 17,
      "outputs": []
    }
  ]
}